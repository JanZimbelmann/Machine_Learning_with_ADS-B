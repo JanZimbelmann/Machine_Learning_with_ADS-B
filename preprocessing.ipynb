{
 "cells": [
  {
   "cell_type": "markdown",
   "metadata": {},
   "source": [
    "# Preprocessing\n",
    "\n",
    "This code deals with the preprocessing of a ADS-B dataset, which was provided by 'The Opensky Network'.\n",
    "The theory with which the preprocessing is based on, is described in my paper: 'Breitengrad Regression eines Flugzeugs mithilfe von ADS-B und Maschinellen Lernen'. The paper is to be found on the same git (Machine_Learning_with_ADS-B.pdf) but is only available in the german language. Some of the considerations are however once again given in a shortend form in the documentation of this notebook.\n",
    "\n",
    "The general task is to reconstruct the position of the plane (latitude, longitude, geometric altitude) of a plane. Those information are given by a GPS and could be missing or faked. The barometric altitude is a information of the plane and is independently calculated of the GPS. Therefore it is available. The focus however is on reconstructing only the latitude. Everything would also work analogous to the other two features."
   ]
  },
  {
   "cell_type": "code",
   "execution_count": 1,
   "metadata": {},
   "outputs": [
    {
     "name": "stdout",
     "output_type": "stream",
     "text": [
      "<class 'pandas.core.frame.DataFrame'>\n",
      "RangeIndex: 2002847 entries, 0 to 2002846\n",
      "Data columns (total 9 columns):\n",
      " #   Column           Dtype  \n",
      "---  ------           -----  \n",
      " 0   id               int64  \n",
      " 1   timeAtServer     float64\n",
      " 2   aircraft         int64  \n",
      " 3   latitude         float64\n",
      " 4   longitude        float64\n",
      " 5   baroAltitude     float64\n",
      " 6   geoAltitude      float64\n",
      " 7   numMeasurements  int64  \n",
      " 8   measurements     object \n",
      "dtypes: float64(5), int64(3), object(1)\n",
      "memory usage: 137.5+ MB\n"
     ]
    }
   ],
   "source": [
    "#import libraries\n",
    "import pandas as pd\n",
    "import numpy as np\n",
    "import json\n",
    "import time\n",
    "import seaborn as sns\n",
    "import matplotlib.pyplot as plt\n",
    "from numpy import cos, arcsin, sqrt, pi\n",
    "import os\n",
    "\n",
    "from sklearn.preprocessing import StandardScaler\n",
    "from sklearn.preprocessing import MinMaxScaler\n",
    "\n",
    "#load data \n",
    "#the ads-b data is stroed in a 'data' folder\n",
    "load_folder = 'data/'\n",
    "df = pd.read_csv(load_folder + 'training.csv', delimiter = ',')\n",
    "sensors = pd.read_csv(load_folder + 'sensors.csv', delimiter = ',')\n",
    "\n",
    "#save data\n",
    "save_folder = 'processed/'\n",
    "if not os.path.exists(save_folder[:-1]):\n",
    "    os.makedirs(save_folder[:-1])\n",
    "\n",
    "#give some information about the data\n",
    "df.info()"
   ]
  },
  {
   "cell_type": "code",
   "execution_count": 2,
   "metadata": {},
   "outputs": [
    {
     "data": {
      "text/html": [
       "<div>\n",
       "<style scoped>\n",
       "    .dataframe tbody tr th:only-of-type {\n",
       "        vertical-align: middle;\n",
       "    }\n",
       "\n",
       "    .dataframe tbody tr th {\n",
       "        vertical-align: top;\n",
       "    }\n",
       "\n",
       "    .dataframe thead th {\n",
       "        text-align: right;\n",
       "    }\n",
       "</style>\n",
       "<table border=\"1\" class=\"dataframe\">\n",
       "  <thead>\n",
       "    <tr style=\"text-align: right;\">\n",
       "      <th></th>\n",
       "      <th>id</th>\n",
       "      <th>timeAtServer</th>\n",
       "      <th>aircraft</th>\n",
       "      <th>latitude</th>\n",
       "      <th>longitude</th>\n",
       "      <th>baroAltitude</th>\n",
       "      <th>geoAltitude</th>\n",
       "      <th>numMeasurements</th>\n",
       "      <th>measurements</th>\n",
       "    </tr>\n",
       "  </thead>\n",
       "  <tbody>\n",
       "    <tr>\n",
       "      <th>0</th>\n",
       "      <td>1</td>\n",
       "      <td>0.000</td>\n",
       "      <td>1013</td>\n",
       "      <td>48.365021</td>\n",
       "      <td>6.394888</td>\n",
       "      <td>11460.48</td>\n",
       "      <td>11849.10</td>\n",
       "      <td>2</td>\n",
       "      <td>[[320,968413984,81],[129,968427734,28]]</td>\n",
       "    </tr>\n",
       "    <tr>\n",
       "      <th>1</th>\n",
       "      <td>2</td>\n",
       "      <td>0.000</td>\n",
       "      <td>165</td>\n",
       "      <td>49.716393</td>\n",
       "      <td>9.597671</td>\n",
       "      <td>10668.00</td>\n",
       "      <td>10919.46</td>\n",
       "      <td>2</td>\n",
       "      <td>[[320,973364296,56],[248,972777843,96]]</td>\n",
       "    </tr>\n",
       "    <tr>\n",
       "      <th>2</th>\n",
       "      <td>3</td>\n",
       "      <td>0.000</td>\n",
       "      <td>2111</td>\n",
       "      <td>48.080795</td>\n",
       "      <td>6.242912</td>\n",
       "      <td>11894.82</td>\n",
       "      <td>12344.40</td>\n",
       "      <td>3</td>\n",
       "      <td>[[320,973858546,37],[477,973712548,18],[440,97...</td>\n",
       "    </tr>\n",
       "    <tr>\n",
       "      <th>3</th>\n",
       "      <td>4</td>\n",
       "      <td>0.000</td>\n",
       "      <td>893</td>\n",
       "      <td>46.813522</td>\n",
       "      <td>8.623732</td>\n",
       "      <td>11277.60</td>\n",
       "      <td>11689.08</td>\n",
       "      <td>4</td>\n",
       "      <td>[[320,983214875,101],[206,983247062,98],[477,9...</td>\n",
       "    </tr>\n",
       "    <tr>\n",
       "      <th>4</th>\n",
       "      <td>5</td>\n",
       "      <td>0.002</td>\n",
       "      <td>793</td>\n",
       "      <td>48.654602</td>\n",
       "      <td>9.129780</td>\n",
       "      <td>11277.60</td>\n",
       "      <td>11582.40</td>\n",
       "      <td>4</td>\n",
       "      <td>[[294,992795640,68],[101,993231734,60],[440,99...</td>\n",
       "    </tr>\n",
       "  </tbody>\n",
       "</table>\n",
       "</div>"
      ],
      "text/plain": [
       "   id  timeAtServer  aircraft   latitude  longitude  baroAltitude  \\\n",
       "0   1         0.000      1013  48.365021   6.394888      11460.48   \n",
       "1   2         0.000       165  49.716393   9.597671      10668.00   \n",
       "2   3         0.000      2111  48.080795   6.242912      11894.82   \n",
       "3   4         0.000       893  46.813522   8.623732      11277.60   \n",
       "4   5         0.002       793  48.654602   9.129780      11277.60   \n",
       "\n",
       "   geoAltitude  numMeasurements  \\\n",
       "0     11849.10                2   \n",
       "1     10919.46                2   \n",
       "2     12344.40                3   \n",
       "3     11689.08                4   \n",
       "4     11582.40                4   \n",
       "\n",
       "                                        measurements  \n",
       "0            [[320,968413984,81],[129,968427734,28]]  \n",
       "1            [[320,973364296,56],[248,972777843,96]]  \n",
       "2  [[320,973858546,37],[477,973712548,18],[440,97...  \n",
       "3  [[320,983214875,101],[206,983247062,98],[477,9...  \n",
       "4  [[294,992795640,68],[101,993231734,60],[440,99...  "
      ]
     },
     "execution_count": 2,
     "metadata": {},
     "output_type": "execute_result"
    }
   ],
   "source": [
    "#show dataframe of the ADS-B data\n",
    "df.head()"
   ]
  },
  {
   "cell_type": "code",
   "execution_count": 3,
   "metadata": {},
   "outputs": [
    {
     "data": {
      "text/plain": [
       "array([ 2,  3,  4,  5,  6,  7,  8,  9, 10, 11, 13, 12])"
      ]
     },
     "execution_count": 3,
     "metadata": {},
     "output_type": "execute_result"
    }
   ],
   "source": [
    "#show the different amount of senors that have received an ADS-B signal\n",
    "df.numMeasurements.unique()"
   ]
  },
  {
   "cell_type": "code",
   "execution_count": 4,
   "metadata": {},
   "outputs": [
    {
     "data": {
      "text/plain": [
       "id                     0\n",
       "timeAtServer           0\n",
       "aircraft               0\n",
       "latitude           84735\n",
       "longitude          84735\n",
       "baroAltitude           0\n",
       "geoAltitude        84735\n",
       "numMeasurements        0\n",
       "measurements           0\n",
       "dtype: int64"
      ]
     },
     "execution_count": 4,
     "metadata": {},
     "output_type": "execute_result"
    }
   ],
   "source": [
    "#show inavailabe datapoints\n",
    "df.isna().sum()"
   ]
  },
  {
   "cell_type": "code",
   "execution_count": 5,
   "metadata": {},
   "outputs": [
    {
     "data": {
      "text/html": [
       "<div>\n",
       "<style scoped>\n",
       "    .dataframe tbody tr th:only-of-type {\n",
       "        vertical-align: middle;\n",
       "    }\n",
       "\n",
       "    .dataframe tbody tr th {\n",
       "        vertical-align: top;\n",
       "    }\n",
       "\n",
       "    .dataframe thead th {\n",
       "        text-align: right;\n",
       "    }\n",
       "</style>\n",
       "<table border=\"1\" class=\"dataframe\">\n",
       "  <thead>\n",
       "    <tr style=\"text-align: right;\">\n",
       "      <th></th>\n",
       "      <th>serial</th>\n",
       "      <th>latitude</th>\n",
       "      <th>longitude</th>\n",
       "      <th>height</th>\n",
       "      <th>type</th>\n",
       "    </tr>\n",
       "  </thead>\n",
       "  <tbody>\n",
       "    <tr>\n",
       "      <th>0</th>\n",
       "      <td>1</td>\n",
       "      <td>46.681067</td>\n",
       "      <td>7.665313</td>\n",
       "      <td>680.9232</td>\n",
       "      <td>SBS-3</td>\n",
       "    </tr>\n",
       "    <tr>\n",
       "      <th>1</th>\n",
       "      <td>2</td>\n",
       "      <td>40.337042</td>\n",
       "      <td>-3.770206</td>\n",
       "      <td>735.7872</td>\n",
       "      <td>SBS-3</td>\n",
       "    </tr>\n",
       "    <tr>\n",
       "      <th>2</th>\n",
       "      <td>3</td>\n",
       "      <td>0.000000</td>\n",
       "      <td>0.000000</td>\n",
       "      <td>0.0000</td>\n",
       "      <td>SBS-3</td>\n",
       "    </tr>\n",
       "    <tr>\n",
       "      <th>3</th>\n",
       "      <td>4</td>\n",
       "      <td>47.143056</td>\n",
       "      <td>7.243889</td>\n",
       "      <td>550.1640</td>\n",
       "      <td>SBS-3</td>\n",
       "    </tr>\n",
       "    <tr>\n",
       "      <th>4</th>\n",
       "      <td>5</td>\n",
       "      <td>52.356455</td>\n",
       "      <td>4.952216</td>\n",
       "      <td>0.0000</td>\n",
       "      <td>dump1090</td>\n",
       "    </tr>\n",
       "  </tbody>\n",
       "</table>\n",
       "</div>"
      ],
      "text/plain": [
       "   serial   latitude  longitude    height      type\n",
       "0       1  46.681067   7.665313  680.9232     SBS-3\n",
       "1       2  40.337042  -3.770206  735.7872     SBS-3\n",
       "2       3   0.000000   0.000000    0.0000     SBS-3\n",
       "3       4  47.143056   7.243889  550.1640     SBS-3\n",
       "4       5  52.356455   4.952216    0.0000  dump1090"
      ]
     },
     "execution_count": 5,
     "metadata": {},
     "output_type": "execute_result"
    }
   ],
   "source": [
    "#show information of the sensors\n",
    "sensors.head()"
   ]
  },
  {
   "cell_type": "code",
   "execution_count": 6,
   "metadata": {},
   "outputs": [
    {
     "data": {
      "text/plain": [
       "array(['SBS-3', 'dump1090', 'Radarcape', 'Asterix', 'Aero', 'GRX1090'],\n",
       "      dtype=object)"
      ]
     },
     "execution_count": 6,
     "metadata": {},
     "output_type": "execute_result"
    }
   ],
   "source": [
    "#show different senortypes\n",
    "sensors.type.unique()"
   ]
  },
  {
   "cell_type": "code",
   "execution_count": 7,
   "metadata": {},
   "outputs": [],
   "source": [
    "#There are 2002847 data points in this dataset and 84735 columns have missing values.\n",
    "#Those values do get dropped.\n",
    "df = df.dropna()"
   ]
  },
  {
   "cell_type": "code",
   "execution_count": 8,
   "metadata": {},
   "outputs": [
    {
     "data": {
      "image/png": "[encoded data removed]",
      "text/plain": [
       "<Figure size 360x360 with 1 Axes>"
      ]
     },
     "metadata": {
      "needs_background": "light"
     },
     "output_type": "display_data"
    }
   ],
   "source": [
    "#showing the correlation of barometric and geometric altitude \n",
    "sns.relplot(x=\"baroAltitude\", y=\"geoAltitude\", data = df);"
   ]
  },
  {
   "cell_type": "markdown",
   "metadata": {},
   "source": [
    "## Combining the ADS-B Dataframe with the Sensor Measurements\n",
    "\n",
    "When considering a multilateration in a 3D space, you need at least 4 sensors for a accurate position localization.\n",
    "However the barometric altitude and the geometric altitude have a huge correlation.\n",
    "Therefore it is assumed that the problem can be reduced to a 2D problem with 3 sensors required.\n",
    "\n",
    "There are different amounts of sensors that receive a ADS-B signal for each datapoint, the 'numMeasurements' is between 2 and 13. Most of them are in the lower range. For using a machine learning algorithm there needs to be a uniform processing of the measurements. Based on the consideration about multilateration, I suggest to accept only three measurements and only the first three, to enable an unbiased training. Each of the sensors have information about signal arrival time, amplitude, sensortype, geometric altitude, latitude and longitude. This leads to an amount of 18 features that can be substituted for the 'measurements' feature.\n",
    "\n",
    "There are 6 different sensor types. Radarcape and GRX1090 are known to be responsible sensortypes.\n",
    "Therefore those sensortypes are only considered. The ampltiude for Radarcape given in dB and for GRX1090 in percentage. Moreover the GRX1090 has some outlier in the percentage range. Those get dropped. Then both sensortypes get rescaled individually from 0 to 1. Afterwards, sensors with less than 0.02 rescaled amplitude are dropped.\n",
    "\n",
    "In the end the (sensor-)'type', the 'aircraft', 'id' and the 'numMeasurements' feautres are dropped."
   ]
  },
  {
   "cell_type": "code",
   "execution_count": 9,
   "metadata": {},
   "outputs": [
    {
     "name": "stdout",
     "output_type": "stream",
     "text": [
      "It took 824.6918699741364 seconds for filtering 1918112 datapoints.\n",
      "There are now 841203 entries left.\n"
     ]
    }
   ],
   "source": [
    "#measure time for this preprocessing step\n",
    "start = time.time()\n",
    "#it is possible to reduce the df to a smaller df, however is not done here\n",
    "df_s = df\n",
    "#prepare the array that gets converted to a new dataframe later\n",
    "prepare_array = []\n",
    "#make an iteration over the entire dataframe to further preprocess this\n",
    "for i, row in df_s.iterrows():\n",
    "    #only accept a num measurement of larger than 3\n",
    "    if(row['numMeasurements']>=3):\n",
    "        #rewrite the measurement list with json\n",
    "        measurements_list = json.loads(row[\"measurements\"])\n",
    "        #prepare a row that gets appended later on the prepare array\n",
    "        prepare_row = []\n",
    "        #iterate over the three first measurements in the datapoint\n",
    "        for k in range(3):\n",
    "            #convert the measurement information\n",
    "            m_list = measurements_list[k]\n",
    "            #first entry is the index\n",
    "            #the index in the 'measurements' list corresponds to the\n",
    "            #index in the sensorslist, minus 1\n",
    "            index = m_list[0]-1\n",
    "            #arrival time of the signal is the second entry in the m_list\n",
    "            arrival = m_list[1]\n",
    "            #amplitude of the signal is the third entry in the m_list\n",
    "            amplitude = m_list[2]\n",
    "            #catch the information of the sensor\n",
    "            sensor_row = sensors.iloc[index,:]\n",
    "            #only accept 'Radarcape' or 'GRX1090' type sensors\n",
    "            if(sensor_row['type'] == 'Radarcape' or sensor_row['type'] == 'GRX1090'):\n",
    "                #add the information of the sensor\n",
    "                prepare_row.append(sensor_row['type'])\n",
    "                prepare_row.append(sensor_row['latitude'])\n",
    "                prepare_row.append(sensor_row['longitude'])\n",
    "                prepare_row.append(sensor_row['height'])\n",
    "                prepare_row.append(arrival)\n",
    "                prepare_row.append(amplitude)\n",
    "                #only appends the row if there are actually 3 sensors accepted\n",
    "                if(k==2):\n",
    "                    #appending the other features\n",
    "                    for j in row[0:8]:\n",
    "                        prepare_row.append(j)\n",
    "                    prepare_array.append(prepare_row)\n",
    "            else:\n",
    "                break\n",
    "#ending the timer                \n",
    "end = time.time()\n",
    "print('It took %s seconds for filtering %s datapoints.'%(end - start, df_s.count()[0]))\n",
    "print('There are now %s entries left.'%len(prepare_array))"
   ]
  },
  {
   "cell_type": "markdown",
   "metadata": {},
   "source": [
    "The previous code had only prepared an array. This is not translated into a pandas data frame."
   ]
  },
  {
   "cell_type": "code",
   "execution_count": 10,
   "metadata": {},
   "outputs": [],
   "source": [
    "#create a empty array, in which the names will be appended\n",
    "names = []\n",
    "\n",
    "#iterate over the first three sensors that measured the signal\n",
    "for i in ['s1_','s2_','s3_']:\n",
    "    #append the name of the data\n",
    "    names.append(i+'type')\n",
    "    names.append(i+'latitude')\n",
    "    names.append(i+'longitude')\n",
    "    names.append(i+'height')\n",
    "    names.append(i+'arrival')\n",
    "    names.append(i+'amplitude')\n",
    "\n",
    "#take the first 9 column names of the dataframe\n",
    "columns=df.columns[0:8]\n",
    "#add additional column names\n",
    "for i in columns:\n",
    "    names.append(i)\n",
    "\n",
    "#create a new dataframe\n",
    "df_new = pd.DataFrame(prepare_array,columns=names)\n",
    "#initiate a scaler from 0 to 1 for the amplitude of the individual sensortypes\n",
    "scaler = MinMaxScaler()\n",
    "for i in ['s1_', 's2_', 's3_']:\n",
    "    #rescaling 'Radarcape'\n",
    "    scaling_amp = scaler.fit_transform(df_new.loc[df_new[i+'type'] == 'Radarcape'][[i+'amplitude']])\n",
    "    df_new.loc[df_new[i+'type'] == 'Radarcape',i+'amplitude'] = scaling_amp\n",
    "    #The 'GRX1090' data with the outliners are removed here\n",
    "    index_names = df_new[df_new[i+'amplitude'] > 100].index\n",
    "    df_new.drop(index_names , inplace=True)\n",
    "    #rescaling 'GRX1090'\n",
    "    scaling_amp = scaler.fit_transform(df_new.loc[df_new[i+'type'] == 'GRX1090'][[i+'amplitude']])\n",
    "    df_new.loc[df_new[i+'type'] == 'GRX1090',i+'amplitude'] = scaling_amp \n",
    "    #drop the sensor-'type'\n",
    "    df_new = df_new.drop([i+'type'], axis =1)\n",
    "    #drop amplitudes which are smaller than 0.02 for each sensor\n",
    "    index_names = df_new[df_new[i+'amplitude'] < 0.02].index\n",
    "    df_new.drop(index_names , inplace=True)\n",
    "\n",
    "#drop the 'id' feature\n",
    "df_new = df_new.drop(['id'], axis =1)\n",
    "#drop the 'aircraft' feature\n",
    "df_new = df_new.drop(['aircraft'], axis =1)\n",
    "#drop the 'numMeasurements' feature\n",
    "df_new = df_new.drop(['numMeasurements'], axis =1)"
   ]
  },
  {
   "cell_type": "code",
   "execution_count": 11,
   "metadata": {},
   "outputs": [],
   "source": [
    "#saving to csv\n",
    "df_new.to_csv(save_folder + 'df.csv')"
   ]
  },
  {
   "cell_type": "markdown",
   "metadata": {},
   "source": [
    "## Preprocessing Visualisation\n",
    "\n",
    "Now the data preprocessing is done and some further correlations are visualized for the data:"
   ]
  },
  {
   "cell_type": "code",
   "execution_count": 12,
   "metadata": {},
   "outputs": [
    {
     "data": {
      "text/html": [
       "<div>\n",
       "<style scoped>\n",
       "    .dataframe tbody tr th:only-of-type {\n",
       "        vertical-align: middle;\n",
       "    }\n",
       "\n",
       "    .dataframe tbody tr th {\n",
       "        vertical-align: top;\n",
       "    }\n",
       "\n",
       "    .dataframe thead th {\n",
       "        text-align: right;\n",
       "    }\n",
       "</style>\n",
       "<table border=\"1\" class=\"dataframe\">\n",
       "  <thead>\n",
       "    <tr style=\"text-align: right;\">\n",
       "      <th></th>\n",
       "      <th>s1_latitude</th>\n",
       "      <th>s1_longitude</th>\n",
       "      <th>s1_height</th>\n",
       "      <th>s1_arrival</th>\n",
       "      <th>s1_amplitude</th>\n",
       "      <th>s2_latitude</th>\n",
       "      <th>s2_longitude</th>\n",
       "      <th>s2_height</th>\n",
       "      <th>s2_arrival</th>\n",
       "      <th>s2_amplitude</th>\n",
       "      <th>s3_latitude</th>\n",
       "      <th>s3_longitude</th>\n",
       "      <th>s3_height</th>\n",
       "      <th>s3_arrival</th>\n",
       "      <th>s3_amplitude</th>\n",
       "      <th>timeAtServer</th>\n",
       "      <th>latitude</th>\n",
       "      <th>longitude</th>\n",
       "      <th>baroAltitude</th>\n",
       "      <th>geoAltitude</th>\n",
       "    </tr>\n",
       "  </thead>\n",
       "  <tbody>\n",
       "    <tr>\n",
       "      <th>count</th>\n",
       "      <td>771077.000000</td>\n",
       "      <td>771077.000000</td>\n",
       "      <td>771077.000000</td>\n",
       "      <td>7.710770e+05</td>\n",
       "      <td>771077.000000</td>\n",
       "      <td>771077.000000</td>\n",
       "      <td>771077.000000</td>\n",
       "      <td>771077.000000</td>\n",
       "      <td>7.710770e+05</td>\n",
       "      <td>771077.000000</td>\n",
       "      <td>771077.000000</td>\n",
       "      <td>771077.000000</td>\n",
       "      <td>771077.000000</td>\n",
       "      <td>7.710770e+05</td>\n",
       "      <td>771077.000000</td>\n",
       "      <td>771077.000000</td>\n",
       "      <td>771077.000000</td>\n",
       "      <td>771077.000000</td>\n",
       "      <td>771077.000000</td>\n",
       "      <td>771077.000000</td>\n",
       "    </tr>\n",
       "    <tr>\n",
       "      <th>mean</th>\n",
       "      <td>49.229587</td>\n",
       "      <td>8.108717</td>\n",
       "      <td>274.211906</td>\n",
       "      <td>1.784512e+12</td>\n",
       "      <td>0.317959</td>\n",
       "      <td>49.207144</td>\n",
       "      <td>8.220022</td>\n",
       "      <td>330.849877</td>\n",
       "      <td>1.784513e+12</td>\n",
       "      <td>0.318877</td>\n",
       "      <td>49.170290</td>\n",
       "      <td>8.240812</td>\n",
       "      <td>371.571721</td>\n",
       "      <td>1.784512e+12</td>\n",
       "      <td>0.329877</td>\n",
       "      <td>1783.531856</td>\n",
       "      <td>49.196764</td>\n",
       "      <td>8.012473</td>\n",
       "      <td>9567.220516</td>\n",
       "      <td>9832.390680</td>\n",
       "    </tr>\n",
       "    <tr>\n",
       "      <th>std</th>\n",
       "      <td>1.935346</td>\n",
       "      <td>2.907224</td>\n",
       "      <td>251.859486</td>\n",
       "      <td>1.047265e+12</td>\n",
       "      <td>0.135479</td>\n",
       "      <td>1.893723</td>\n",
       "      <td>2.805626</td>\n",
       "      <td>308.517242</td>\n",
       "      <td>1.047265e+12</td>\n",
       "      <td>0.139309</td>\n",
       "      <td>1.823613</td>\n",
       "      <td>2.686093</td>\n",
       "      <td>349.585577</td>\n",
       "      <td>1.047261e+12</td>\n",
       "      <td>0.140920</td>\n",
       "      <td>1047.264856</td>\n",
       "      <td>1.900330</td>\n",
       "      <td>2.778327</td>\n",
       "      <td>2605.998223</td>\n",
       "      <td>2654.560364</td>\n",
       "    </tr>\n",
       "    <tr>\n",
       "      <th>min</th>\n",
       "      <td>41.855279</td>\n",
       "      <td>-7.188814</td>\n",
       "      <td>-1.820427</td>\n",
       "      <td>9.628652e+08</td>\n",
       "      <td>0.020833</td>\n",
       "      <td>38.103681</td>\n",
       "      <td>-7.188814</td>\n",
       "      <td>-1.820427</td>\n",
       "      <td>9.628016e+08</td>\n",
       "      <td>0.020661</td>\n",
       "      <td>38.103681</td>\n",
       "      <td>-7.188814</td>\n",
       "      <td>-1.820427</td>\n",
       "      <td>9.632462e+08</td>\n",
       "      <td>0.020833</td>\n",
       "      <td>0.000000</td>\n",
       "      <td>41.103205</td>\n",
       "      <td>-4.656477</td>\n",
       "      <td>0.000000</td>\n",
       "      <td>228.600000</td>\n",
       "    </tr>\n",
       "    <tr>\n",
       "      <th>25%</th>\n",
       "      <td>47.347179</td>\n",
       "      <td>6.837746</td>\n",
       "      <td>89.977486</td>\n",
       "      <td>8.661639e+11</td>\n",
       "      <td>0.214286</td>\n",
       "      <td>47.377785</td>\n",
       "      <td>7.353797</td>\n",
       "      <td>82.381000</td>\n",
       "      <td>8.661637e+11</td>\n",
       "      <td>0.214876</td>\n",
       "      <td>47.400170</td>\n",
       "      <td>7.353797</td>\n",
       "      <td>82.381000</td>\n",
       "      <td>8.661636e+11</td>\n",
       "      <td>0.228448</td>\n",
       "      <td>865.183000</td>\n",
       "      <td>47.698929</td>\n",
       "      <td>6.685730</td>\n",
       "      <td>8801.100000</td>\n",
       "      <td>9006.840000</td>\n",
       "    </tr>\n",
       "    <tr>\n",
       "      <th>50%</th>\n",
       "      <td>50.048573</td>\n",
       "      <td>8.487752</td>\n",
       "      <td>223.256345</td>\n",
       "      <td>1.779370e+12</td>\n",
       "      <td>0.310924</td>\n",
       "      <td>49.529678</td>\n",
       "      <td>8.487752</td>\n",
       "      <td>273.985000</td>\n",
       "      <td>1.779370e+12</td>\n",
       "      <td>0.309917</td>\n",
       "      <td>49.471601</td>\n",
       "      <td>8.358244</td>\n",
       "      <td>302.881989</td>\n",
       "      <td>1.779370e+12</td>\n",
       "      <td>0.322917</td>\n",
       "      <td>1778.398000</td>\n",
       "      <td>49.517569</td>\n",
       "      <td>8.270493</td>\n",
       "      <td>10668.000000</td>\n",
       "      <td>10904.220000</td>\n",
       "    </tr>\n",
       "    <tr>\n",
       "      <th>75%</th>\n",
       "      <td>51.242813</td>\n",
       "      <td>8.641771</td>\n",
       "      <td>481.115997</td>\n",
       "      <td>2.694844e+12</td>\n",
       "      <td>0.415966</td>\n",
       "      <td>50.937081</td>\n",
       "      <td>8.789325</td>\n",
       "      <td>497.984192</td>\n",
       "      <td>2.694843e+12</td>\n",
       "      <td>0.413223</td>\n",
       "      <td>50.937081</td>\n",
       "      <td>8.789325</td>\n",
       "      <td>497.984192</td>\n",
       "      <td>2.694843e+12</td>\n",
       "      <td>0.422414</td>\n",
       "      <td>2693.863000</td>\n",
       "      <td>50.633891</td>\n",
       "      <td>9.510005</td>\n",
       "      <td>11277.600000</td>\n",
       "      <td>11582.400000</td>\n",
       "    </tr>\n",
       "    <tr>\n",
       "      <th>max</th>\n",
       "      <td>53.469921</td>\n",
       "      <td>16.371110</td>\n",
       "      <td>1699.392950</td>\n",
       "      <td>3.600960e+12</td>\n",
       "      <td>1.000000</td>\n",
       "      <td>53.469921</td>\n",
       "      <td>16.877839</td>\n",
       "      <td>1699.392950</td>\n",
       "      <td>3.600960e+12</td>\n",
       "      <td>1.000000</td>\n",
       "      <td>53.469921</td>\n",
       "      <td>16.877839</td>\n",
       "      <td>1699.392950</td>\n",
       "      <td>3.600960e+12</td>\n",
       "      <td>1.000000</td>\n",
       "      <td>3599.971000</td>\n",
       "      <td>56.079163</td>\n",
       "      <td>16.791933</td>\n",
       "      <td>13731.240000</td>\n",
       "      <td>14226.540000</td>\n",
       "    </tr>\n",
       "  </tbody>\n",
       "</table>\n",
       "</div>"
      ],
      "text/plain": [
       "         s1_latitude   s1_longitude      s1_height    s1_arrival  \\\n",
       "count  771077.000000  771077.000000  771077.000000  7.710770e+05   \n",
       "mean       49.229587       8.108717     274.211906  1.784512e+12   \n",
       "std         1.935346       2.907224     251.859486  1.047265e+12   \n",
       "min        41.855279      -7.188814      -1.820427  9.628652e+08   \n",
       "25%        47.347179       6.837746      89.977486  8.661639e+11   \n",
       "50%        50.048573       8.487752     223.256345  1.779370e+12   \n",
       "75%        51.242813       8.641771     481.115997  2.694844e+12   \n",
       "max        53.469921      16.371110    1699.392950  3.600960e+12   \n",
       "\n",
       "        s1_amplitude    s2_latitude   s2_longitude      s2_height  \\\n",
       "count  771077.000000  771077.000000  771077.000000  771077.000000   \n",
       "mean        0.317959      49.207144       8.220022     330.849877   \n",
       "std         0.135479       1.893723       2.805626     308.517242   \n",
       "min         0.020833      38.103681      -7.188814      -1.820427   \n",
       "25%         0.214286      47.377785       7.353797      82.381000   \n",
       "50%         0.310924      49.529678       8.487752     273.985000   \n",
       "75%         0.415966      50.937081       8.789325     497.984192   \n",
       "max         1.000000      53.469921      16.877839    1699.392950   \n",
       "\n",
       "         s2_arrival   s2_amplitude    s3_latitude   s3_longitude  \\\n",
       "count  7.710770e+05  771077.000000  771077.000000  771077.000000   \n",
       "mean   1.784513e+12       0.318877      49.170290       8.240812   \n",
       "std    1.047265e+12       0.139309       1.823613       2.686093   \n",
       "min    9.628016e+08       0.020661      38.103681      -7.188814   \n",
       "25%    8.661637e+11       0.214876      47.400170       7.353797   \n",
       "50%    1.779370e+12       0.309917      49.471601       8.358244   \n",
       "75%    2.694843e+12       0.413223      50.937081       8.789325   \n",
       "max    3.600960e+12       1.000000      53.469921      16.877839   \n",
       "\n",
       "           s3_height    s3_arrival   s3_amplitude   timeAtServer  \\\n",
       "count  771077.000000  7.710770e+05  771077.000000  771077.000000   \n",
       "mean      371.571721  1.784512e+12       0.329877    1783.531856   \n",
       "std       349.585577  1.047261e+12       0.140920    1047.264856   \n",
       "min        -1.820427  9.632462e+08       0.020833       0.000000   \n",
       "25%        82.381000  8.661636e+11       0.228448     865.183000   \n",
       "50%       302.881989  1.779370e+12       0.322917    1778.398000   \n",
       "75%       497.984192  2.694843e+12       0.422414    2693.863000   \n",
       "max      1699.392950  3.600960e+12       1.000000    3599.971000   \n",
       "\n",
       "            latitude      longitude   baroAltitude    geoAltitude  \n",
       "count  771077.000000  771077.000000  771077.000000  771077.000000  \n",
       "mean       49.196764       8.012473    9567.220516    9832.390680  \n",
       "std         1.900330       2.778327    2605.998223    2654.560364  \n",
       "min        41.103205      -4.656477       0.000000     228.600000  \n",
       "25%        47.698929       6.685730    8801.100000    9006.840000  \n",
       "50%        49.517569       8.270493   10668.000000   10904.220000  \n",
       "75%        50.633891       9.510005   11277.600000   11582.400000  \n",
       "max        56.079163      16.791933   13731.240000   14226.540000  "
      ]
     },
     "execution_count": 12,
     "metadata": {},
     "output_type": "execute_result"
    }
   ],
   "source": [
    "#statistical description of the dataset\n",
    "df_new.describe()"
   ]
  },
  {
   "cell_type": "code",
   "execution_count": 13,
   "metadata": {},
   "outputs": [
    {
     "data": {
      "text/plain": [
       "<matplotlib.axes._subplots.AxesSubplot at 0x7ff542638df0>"
      ]
     },
     "execution_count": 13,
     "metadata": {},
     "output_type": "execute_result"
    },
    {
     "data": {
      "image/png": "[encoded data removed]",
      "text/plain": [
       "<Figure size 432x288 with 1 Axes>"
      ]
     },
     "metadata": {
      "needs_background": "light"
     },
     "output_type": "display_data"
    }
   ],
   "source": [
    "#boxplot of the latitude of the aircraft and the sensors\n",
    "df_new[['latitude','s1_latitude','s2_latitude','s3_latitude']].boxplot()"
   ]
  },
  {
   "cell_type": "code",
   "execution_count": 14,
   "metadata": {},
   "outputs": [
    {
     "data": {
      "text/plain": [
       "<matplotlib.axes._subplots.AxesSubplot at 0x7ff525a722e0>"
      ]
     },
     "execution_count": 14,
     "metadata": {},
     "output_type": "execute_result"
    },
    {
     "data": {
      "image/png": "[encoded data removed]",
      "text/plain": [
       "<Figure size 432x288 with 2 Axes>"
      ]
     },
     "metadata": {
      "needs_background": "light"
     },
     "output_type": "display_data"
    }
   ],
   "source": [
    "#correlation map of all the features\n",
    "sns.heatmap(df_new.corr(), cmap='coolwarm')"
   ]
  },
  {
   "cell_type": "code",
   "execution_count": 15,
   "metadata": {},
   "outputs": [
    {
     "data": {
      "text/plain": [
       "[(0, 0.8)]"
      ]
     },
     "execution_count": 15,
     "metadata": {},
     "output_type": "execute_result"
    },
    {
     "data": {
      "image/png": "[encoded data removed]",
      "text/plain": [
       "<Figure size 432x288 with 2 Axes>"
      ]
     },
     "metadata": {
      "needs_background": "light"
     },
     "output_type": "display_data"
    }
   ],
   "source": [
    "#the following plot is a little bit more complicated\n",
    "#the distance of the plane to the first sensor is plotted with the amplitude of this signal\n",
    "#since the position is given as latitude, longitude and altitude, this needs to be converted into distance\n",
    "\n",
    "#the following formulas can be derived from here:\n",
    "#http://edwilliams.org/avform.htm\n",
    "\n",
    "def distance(lat1, lon1, lat2, lon2):\n",
    "    p = pi/180\n",
    "    a = 0.5 - cos((lat2-lat1)*p)/2 + cos(lat1*p) * cos(lat2*p) * (1-cos((lon2-lon1)*p))/2\n",
    "    return 12742 * arcsin(sqrt(a)) #2*R*asin...\n",
    "\n",
    "#once again the dataframe can be here set to a smaller df to speed up the process, but is not done\n",
    "df_test = df_new\n",
    "test = pd.DataFrame\n",
    "#distance dependent of the longitude and latitude\n",
    "dist = distance(df_test['latitude'],df_test['longitude'],df_test['s1_latitude'],df_test['s1_longitude'])\n",
    "#with the pythagorean theorem and the geometric altitude difference\n",
    "dist = sqrt((dist * dist) + (((df_test['geoAltitude']-df_test['s1_height'])/1000)**2))\n",
    "#further code for plotting purposes\n",
    "test =  pd.DataFrame(dist,columns=['Sensor 1 - Flugzeug Abstand [km]'])\n",
    "test['Sensor 1 - Amplitude'] = df_test['s1_amplitude']\n",
    "fig = sns.kdeplot(data=test[test.columns[0]], data2=test[test.columns[1]],\n",
    "            n_levels=20, cbar=True, shade=  True, kernel = 'biw', shade_lowest = 0)\n",
    "fig.set(xlim=(0,380))\n",
    "fig.set(ylim=(0,0.8))"
   ]
  },
  {
   "cell_type": "markdown",
   "metadata": {},
   "source": [
    "## Discussion Notes\n",
    "\n",
    "It is to note that most of the aircraft in the dataframe are in a close by region of 41.8 to 53.5 degree in latitude. Therefore any learning procedure on such a dataset is questionable to work universally, since it is here only tested in this range. Also the position of the aircraft is highly correlated to the position of the sensors.\n",
    "\n",
    "Moreover it is interesting that the distance and the amplitude has a huge variance. Therefore the time of the arrival and the server time might be important features for a distance / position calculation. The speed of the signal is always transmitted with the speed of light and could be calculated with the time difference."
   ]
  }
 ],
 "metadata": {
  "kernelspec": {
   "display_name": "Python 3",
   "language": "python",
   "name": "python3"
  },
  "language_info": {
   "codemirror_mode": {
    "name": "ipython",
    "version": 3
   },
   "file_extension": ".py",
   "mimetype": "text/x-python",
   "name": "python",
   "nbconvert_exporter": "python",
   "pygments_lexer": "ipython3",
   "version": "3.8.3"
  }
 },
 "nbformat": 4,
 "nbformat_minor": 4
}

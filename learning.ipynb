{
 "cells": [
  {
   "cell_type": "markdown",
   "metadata": {},
   "source": [
    "# Machine Learning Regression Task\n",
    "\n",
    "This notebook focuses on reconstructing the latitude of the data.\n",
    "\n",
    "First the data from the preprocessing is loaded."
   ]
  },
  {
   "cell_type": "code",
   "execution_count": 1,
   "metadata": {},
   "outputs": [
    {
     "data": {
      "text/html": [
       "<div>\n",
       "<style scoped>\n",
       "    .dataframe tbody tr th:only-of-type {\n",
       "        vertical-align: middle;\n",
       "    }\n",
       "\n",
       "    .dataframe tbody tr th {\n",
       "        vertical-align: top;\n",
       "    }\n",
       "\n",
       "    .dataframe thead th {\n",
       "        text-align: right;\n",
       "    }\n",
       "</style>\n",
       "<table border=\"1\" class=\"dataframe\">\n",
       "  <thead>\n",
       "    <tr style=\"text-align: right;\">\n",
       "      <th></th>\n",
       "      <th>s1_latitude</th>\n",
       "      <th>s1_longitude</th>\n",
       "      <th>s1_height</th>\n",
       "      <th>s1_arrival</th>\n",
       "      <th>s1_amplitude</th>\n",
       "      <th>s2_latitude</th>\n",
       "      <th>s2_longitude</th>\n",
       "      <th>s2_height</th>\n",
       "      <th>s2_arrival</th>\n",
       "      <th>s2_amplitude</th>\n",
       "      <th>s3_latitude</th>\n",
       "      <th>s3_longitude</th>\n",
       "      <th>s3_height</th>\n",
       "      <th>s3_arrival</th>\n",
       "      <th>s3_amplitude</th>\n",
       "      <th>timeAtServer</th>\n",
       "      <th>latitude</th>\n",
       "      <th>longitude</th>\n",
       "      <th>baroAltitude</th>\n",
       "      <th>geoAltitude</th>\n",
       "    </tr>\n",
       "  </thead>\n",
       "  <tbody>\n",
       "    <tr>\n",
       "      <th>0</th>\n",
       "      <td>51.872524</td>\n",
       "      <td>-0.506857</td>\n",
       "      <td>181.261017</td>\n",
       "      <td>9.230699e+11</td>\n",
       "      <td>0.180672</td>\n",
       "      <td>52.780922</td>\n",
       "      <td>-1.204590</td>\n",
       "      <td>42.761841</td>\n",
       "      <td>9.230702e+11</td>\n",
       "      <td>0.260331</td>\n",
       "      <td>51.245861</td>\n",
       "      <td>-0.768550</td>\n",
       "      <td>89.977486</td>\n",
       "      <td>9.230699e+11</td>\n",
       "      <td>0.155172</td>\n",
       "      <td>922.102</td>\n",
       "      <td>51.548690</td>\n",
       "      <td>0.556183</td>\n",
       "      <td>9144.00</td>\n",
       "      <td>9448.80</td>\n",
       "    </tr>\n",
       "    <tr>\n",
       "      <th>1</th>\n",
       "      <td>50.937081</td>\n",
       "      <td>7.353797</td>\n",
       "      <td>262.311051</td>\n",
       "      <td>3.578505e+12</td>\n",
       "      <td>0.331933</td>\n",
       "      <td>49.287572</td>\n",
       "      <td>7.603982</td>\n",
       "      <td>410.652000</td>\n",
       "      <td>3.578505e+12</td>\n",
       "      <td>0.270833</td>\n",
       "      <td>49.471601</td>\n",
       "      <td>7.696532</td>\n",
       "      <td>273.985000</td>\n",
       "      <td>3.578505e+12</td>\n",
       "      <td>0.187500</td>\n",
       "      <td>3577.536</td>\n",
       "      <td>49.897807</td>\n",
       "      <td>6.189608</td>\n",
       "      <td>10210.80</td>\n",
       "      <td>10500.36</td>\n",
       "    </tr>\n",
       "    <tr>\n",
       "      <th>2</th>\n",
       "      <td>50.116819</td>\n",
       "      <td>8.358244</td>\n",
       "      <td>266.413934</td>\n",
       "      <td>3.179083e+12</td>\n",
       "      <td>0.365546</td>\n",
       "      <td>50.048584</td>\n",
       "      <td>8.487752</td>\n",
       "      <td>92.620644</td>\n",
       "      <td>3.179083e+12</td>\n",
       "      <td>0.293388</td>\n",
       "      <td>50.048573</td>\n",
       "      <td>8.487899</td>\n",
       "      <td>82.381000</td>\n",
       "      <td>3.179083e+12</td>\n",
       "      <td>0.489583</td>\n",
       "      <td>3178.091</td>\n",
       "      <td>50.381532</td>\n",
       "      <td>8.527321</td>\n",
       "      <td>7917.18</td>\n",
       "      <td>8046.72</td>\n",
       "    </tr>\n",
       "    <tr>\n",
       "      <th>3</th>\n",
       "      <td>47.347179</td>\n",
       "      <td>8.641771</td>\n",
       "      <td>658.186853</td>\n",
       "      <td>1.498329e+12</td>\n",
       "      <td>0.243697</td>\n",
       "      <td>49.529678</td>\n",
       "      <td>10.906069</td>\n",
       "      <td>321.081635</td>\n",
       "      <td>1.498329e+12</td>\n",
       "      <td>0.103306</td>\n",
       "      <td>48.365643</td>\n",
       "      <td>11.478421</td>\n",
       "      <td>497.984192</td>\n",
       "      <td>1.498329e+12</td>\n",
       "      <td>0.448276</td>\n",
       "      <td>1497.355</td>\n",
       "      <td>47.056778</td>\n",
       "      <td>9.545334</td>\n",
       "      <td>8839.20</td>\n",
       "      <td>9220.20</td>\n",
       "    </tr>\n",
       "    <tr>\n",
       "      <th>4</th>\n",
       "      <td>50.937081</td>\n",
       "      <td>7.353797</td>\n",
       "      <td>262.311051</td>\n",
       "      <td>1.410003e+12</td>\n",
       "      <td>0.222689</td>\n",
       "      <td>49.287572</td>\n",
       "      <td>7.603982</td>\n",
       "      <td>410.652000</td>\n",
       "      <td>1.410003e+12</td>\n",
       "      <td>0.093750</td>\n",
       "      <td>51.440416</td>\n",
       "      <td>6.751119</td>\n",
       "      <td>46.657000</td>\n",
       "      <td>1.410003e+12</td>\n",
       "      <td>0.322917</td>\n",
       "      <td>1409.046</td>\n",
       "      <td>50.583103</td>\n",
       "      <td>5.205812</td>\n",
       "      <td>9441.18</td>\n",
       "      <td>9700.26</td>\n",
       "    </tr>\n",
       "    <tr>\n",
       "      <th>...</th>\n",
       "      <td>...</td>\n",
       "      <td>...</td>\n",
       "      <td>...</td>\n",
       "      <td>...</td>\n",
       "      <td>...</td>\n",
       "      <td>...</td>\n",
       "      <td>...</td>\n",
       "      <td>...</td>\n",
       "      <td>...</td>\n",
       "      <td>...</td>\n",
       "      <td>...</td>\n",
       "      <td>...</td>\n",
       "      <td>...</td>\n",
       "      <td>...</td>\n",
       "      <td>...</td>\n",
       "      <td>...</td>\n",
       "      <td>...</td>\n",
       "      <td>...</td>\n",
       "      <td>...</td>\n",
       "      <td>...</td>\n",
       "    </tr>\n",
       "    <tr>\n",
       "      <th>99995</th>\n",
       "      <td>47.347179</td>\n",
       "      <td>8.641771</td>\n",
       "      <td>658.186853</td>\n",
       "      <td>6.166560e+11</td>\n",
       "      <td>0.264706</td>\n",
       "      <td>48.891468</td>\n",
       "      <td>9.177591</td>\n",
       "      <td>302.881989</td>\n",
       "      <td>6.166555e+11</td>\n",
       "      <td>0.177686</td>\n",
       "      <td>48.365643</td>\n",
       "      <td>11.478421</td>\n",
       "      <td>497.984192</td>\n",
       "      <td>6.166559e+11</td>\n",
       "      <td>0.250000</td>\n",
       "      <td>615.675</td>\n",
       "      <td>49.161438</td>\n",
       "      <td>9.511766</td>\n",
       "      <td>4076.70</td>\n",
       "      <td>4213.86</td>\n",
       "    </tr>\n",
       "    <tr>\n",
       "      <th>99996</th>\n",
       "      <td>50.048584</td>\n",
       "      <td>8.487752</td>\n",
       "      <td>92.620644</td>\n",
       "      <td>2.301260e+12</td>\n",
       "      <td>0.134454</td>\n",
       "      <td>50.048573</td>\n",
       "      <td>8.487899</td>\n",
       "      <td>82.381000</td>\n",
       "      <td>2.301260e+12</td>\n",
       "      <td>0.302083</td>\n",
       "      <td>47.511948</td>\n",
       "      <td>10.280076</td>\n",
       "      <td>754.537476</td>\n",
       "      <td>2.301261e+12</td>\n",
       "      <td>0.172414</td>\n",
       "      <td>2300.273</td>\n",
       "      <td>50.096073</td>\n",
       "      <td>10.262418</td>\n",
       "      <td>11277.60</td>\n",
       "      <td>11460.48</td>\n",
       "    </tr>\n",
       "    <tr>\n",
       "      <th>99997</th>\n",
       "      <td>47.347179</td>\n",
       "      <td>8.641771</td>\n",
       "      <td>658.186853</td>\n",
       "      <td>2.567354e+12</td>\n",
       "      <td>0.285714</td>\n",
       "      <td>47.070521</td>\n",
       "      <td>7.620542</td>\n",
       "      <td>560.806758</td>\n",
       "      <td>2.567354e+12</td>\n",
       "      <td>0.095041</td>\n",
       "      <td>48.365643</td>\n",
       "      <td>11.478421</td>\n",
       "      <td>497.984192</td>\n",
       "      <td>2.567355e+12</td>\n",
       "      <td>0.137931</td>\n",
       "      <td>2566.376</td>\n",
       "      <td>48.157700</td>\n",
       "      <td>6.610748</td>\n",
       "      <td>10881.36</td>\n",
       "      <td>11269.98</td>\n",
       "    </tr>\n",
       "    <tr>\n",
       "      <th>99998</th>\n",
       "      <td>50.048584</td>\n",
       "      <td>8.487752</td>\n",
       "      <td>92.620644</td>\n",
       "      <td>2.403410e+12</td>\n",
       "      <td>0.176471</td>\n",
       "      <td>50.048573</td>\n",
       "      <td>8.487899</td>\n",
       "      <td>82.381000</td>\n",
       "      <td>2.403410e+12</td>\n",
       "      <td>0.260417</td>\n",
       "      <td>49.471601</td>\n",
       "      <td>7.696532</td>\n",
       "      <td>273.985000</td>\n",
       "      <td>2.403410e+12</td>\n",
       "      <td>0.635417</td>\n",
       "      <td>2402.421</td>\n",
       "      <td>49.153810</td>\n",
       "      <td>7.875029</td>\n",
       "      <td>11277.60</td>\n",
       "      <td>11574.78</td>\n",
       "    </tr>\n",
       "    <tr>\n",
       "      <th>99999</th>\n",
       "      <td>47.070521</td>\n",
       "      <td>7.620542</td>\n",
       "      <td>560.806758</td>\n",
       "      <td>3.070845e+12</td>\n",
       "      <td>0.382353</td>\n",
       "      <td>46.762415</td>\n",
       "      <td>7.600441</td>\n",
       "      <td>594.318000</td>\n",
       "      <td>3.070845e+12</td>\n",
       "      <td>0.218750</td>\n",
       "      <td>47.377785</td>\n",
       "      <td>8.552484</td>\n",
       "      <td>500.404000</td>\n",
       "      <td>3.070845e+12</td>\n",
       "      <td>0.093750</td>\n",
       "      <td>3069.853</td>\n",
       "      <td>46.970627</td>\n",
       "      <td>7.138504</td>\n",
       "      <td>10050.78</td>\n",
       "      <td>10431.78</td>\n",
       "    </tr>\n",
       "  </tbody>\n",
       "</table>\n",
       "<p>100000 rows × 20 columns</p>\n",
       "</div>"
      ],
      "text/plain": [
       "       s1_latitude  s1_longitude   s1_height    s1_arrival  s1_amplitude  \\\n",
       "0        51.872524     -0.506857  181.261017  9.230699e+11      0.180672   \n",
       "1        50.937081      7.353797  262.311051  3.578505e+12      0.331933   \n",
       "2        50.116819      8.358244  266.413934  3.179083e+12      0.365546   \n",
       "3        47.347179      8.641771  658.186853  1.498329e+12      0.243697   \n",
       "4        50.937081      7.353797  262.311051  1.410003e+12      0.222689   \n",
       "...            ...           ...         ...           ...           ...   \n",
       "99995    47.347179      8.641771  658.186853  6.166560e+11      0.264706   \n",
       "99996    50.048584      8.487752   92.620644  2.301260e+12      0.134454   \n",
       "99997    47.347179      8.641771  658.186853  2.567354e+12      0.285714   \n",
       "99998    50.048584      8.487752   92.620644  2.403410e+12      0.176471   \n",
       "99999    47.070521      7.620542  560.806758  3.070845e+12      0.382353   \n",
       "\n",
       "       s2_latitude  s2_longitude   s2_height    s2_arrival  s2_amplitude  \\\n",
       "0        52.780922     -1.204590   42.761841  9.230702e+11      0.260331   \n",
       "1        49.287572      7.603982  410.652000  3.578505e+12      0.270833   \n",
       "2        50.048584      8.487752   92.620644  3.179083e+12      0.293388   \n",
       "3        49.529678     10.906069  321.081635  1.498329e+12      0.103306   \n",
       "4        49.287572      7.603982  410.652000  1.410003e+12      0.093750   \n",
       "...            ...           ...         ...           ...           ...   \n",
       "99995    48.891468      9.177591  302.881989  6.166555e+11      0.177686   \n",
       "99996    50.048573      8.487899   82.381000  2.301260e+12      0.302083   \n",
       "99997    47.070521      7.620542  560.806758  2.567354e+12      0.095041   \n",
       "99998    50.048573      8.487899   82.381000  2.403410e+12      0.260417   \n",
       "99999    46.762415      7.600441  594.318000  3.070845e+12      0.218750   \n",
       "\n",
       "       s3_latitude  s3_longitude   s3_height    s3_arrival  s3_amplitude  \\\n",
       "0        51.245861     -0.768550   89.977486  9.230699e+11      0.155172   \n",
       "1        49.471601      7.696532  273.985000  3.578505e+12      0.187500   \n",
       "2        50.048573      8.487899   82.381000  3.179083e+12      0.489583   \n",
       "3        48.365643     11.478421  497.984192  1.498329e+12      0.448276   \n",
       "4        51.440416      6.751119   46.657000  1.410003e+12      0.322917   \n",
       "...            ...           ...         ...           ...           ...   \n",
       "99995    48.365643     11.478421  497.984192  6.166559e+11      0.250000   \n",
       "99996    47.511948     10.280076  754.537476  2.301261e+12      0.172414   \n",
       "99997    48.365643     11.478421  497.984192  2.567355e+12      0.137931   \n",
       "99998    49.471601      7.696532  273.985000  2.403410e+12      0.635417   \n",
       "99999    47.377785      8.552484  500.404000  3.070845e+12      0.093750   \n",
       "\n",
       "       timeAtServer   latitude  longitude  baroAltitude  geoAltitude  \n",
       "0           922.102  51.548690   0.556183       9144.00      9448.80  \n",
       "1          3577.536  49.897807   6.189608      10210.80     10500.36  \n",
       "2          3178.091  50.381532   8.527321       7917.18      8046.72  \n",
       "3          1497.355  47.056778   9.545334       8839.20      9220.20  \n",
       "4          1409.046  50.583103   5.205812       9441.18      9700.26  \n",
       "...             ...        ...        ...           ...          ...  \n",
       "99995       615.675  49.161438   9.511766       4076.70      4213.86  \n",
       "99996      2300.273  50.096073  10.262418      11277.60     11460.48  \n",
       "99997      2566.376  48.157700   6.610748      10881.36     11269.98  \n",
       "99998      2402.421  49.153810   7.875029      11277.60     11574.78  \n",
       "99999      3069.853  46.970627   7.138504      10050.78     10431.78  \n",
       "\n",
       "[100000 rows x 20 columns]"
      ]
     },
     "execution_count": 1,
     "metadata": {},
     "output_type": "execute_result"
    }
   ],
   "source": [
    "#import libraries\n",
    "import pandas as pd\n",
    "import numpy as np\n",
    "import seaborn as sns\n",
    "import time\n",
    "import matplotlib.pyplot as plt\n",
    "import os\n",
    "\n",
    "from sklearn.model_selection import train_test_split\n",
    "\n",
    "from sklearn.tree import DecisionTreeRegressor\n",
    "from sklearn import tree\n",
    "from sklearn.model_selection import cross_val_score\n",
    "\n",
    "from sklearn.ensemble import RandomForestRegressor\n",
    "from sklearn.svm import SVR\n",
    "from sklearn.neural_network import MLPRegressor\n",
    "from sklearn.pipeline import make_pipeline\n",
    "from sklearn.preprocessing import StandardScaler\n",
    "from sklearn.preprocessing import MinMaxScaler\n",
    "\n",
    "folder = 'processed/'\n",
    "if not os.path.exists(folder[:-1]):\n",
    "    os.makedirs(folder[:-1])\n",
    "\n",
    "\n",
    "#load dataframe\n",
    "df = pd.read_csv(folder + 'df.csv', delimiter = ',')\n",
    "#shuffle the dataframe\n",
    "df = df.sample(frac=1).reset_index(drop=True)\n",
    "df = df.drop(['Unnamed: 0'], axis =1)\n",
    "\n",
    "#reduce the dataframe size to 100000\n",
    "df=df[:100000]\n",
    "df"
   ]
  },
  {
   "cell_type": "markdown",
   "metadata": {},
   "source": [
    "# Train Test Split\n",
    "\n",
    "Split the dataframe into training and testing dataset.\n",
    "The latitude is reconstructed but the longitude and geometric altitude are not used for training."
   ]
  },
  {
   "cell_type": "code",
   "execution_count": 2,
   "metadata": {},
   "outputs": [],
   "source": [
    "#construct the Feautres X and the target y\n",
    "X = df.drop(['latitude', 'longitude', 'geoAltitude'], axis =1)\n",
    "y = df['latitude']\n",
    "#split them into training and testing set\n",
    "X_train, X_test, y_train, y_test = train_test_split(X, y, test_size=0.4, shuffle=True, random_state=0)\n",
    "#save the y_test as the true values to be able to later compare this with the prediction\n",
    "np.savetxt(folder + 'true.csv', y_test, delimiter=',')"
   ]
  },
  {
   "cell_type": "code",
   "execution_count": 3,
   "metadata": {},
   "outputs": [
    {
     "data": {
      "text/plain": [
       "Text(0, 0.5, 'latitude')"
      ]
     },
     "execution_count": 3,
     "metadata": {},
     "output_type": "execute_result"
    },
    {
     "data": {
      "image/png": "[encoded data removed]",
      "text/plain": [
       "<Figure size 432x288 with 1 Axes>"
      ]
     },
     "metadata": {
      "needs_background": "light"
     },
     "output_type": "display_data"
    }
   ],
   "source": [
    "#visualisation of the training dataset\n",
    "X_train_describe = X_train[['s1_latitude','s2_latitude','s3_latitude']]\n",
    "X_train_describe.insert(0, 'latitude', y_train)\n",
    "X_train_describe.columns = ['Aircraft', 'Sensor 1', 'Sensor 2', 'Sensor 3']\n",
    "ax = X_train_describe.boxplot()\n",
    "ax.set_ylabel('latitude')"
   ]
  },
  {
   "cell_type": "code",
   "execution_count": 4,
   "metadata": {},
   "outputs": [
    {
     "data": {
      "text/plain": [
       "Text(0, 0.5, 'latitude')"
      ]
     },
     "execution_count": 4,
     "metadata": {},
     "output_type": "execute_result"
    },
    {
     "data": {
      "image/png": "[encoded data removed]",
      "text/plain": [
       "<Figure size 432x288 with 1 Axes>"
      ]
     },
     "metadata": {
      "needs_background": "light"
     },
     "output_type": "display_data"
    }
   ],
   "source": [
    "#visualisation of the testing dataset\n",
    "X_test_describe = X_test[['s1_latitude','s2_latitude','s3_latitude']]\n",
    "X_test_describe.insert(0, 'latitude', y_test)\n",
    "X_test_describe.columns = ['Aircraft', 'Sensor 1', 'Sensor 2', 'Sensor 3']\n",
    "ax = X_test_describe.boxplot()\n",
    "ax.set_ylabel('latitude')"
   ]
  },
  {
   "cell_type": "markdown",
   "metadata": {},
   "source": [
    "## Metrics\n",
    "There are three metrics used to describe the accuracy of the models\n",
    "* Mean Absolute Percentage Error (Mape), This metric is a linear depicition of the predicted towards the true latitude\n",
    "* Root Mean Squared Error (RMSE) This metric scales accordingly with the deviation of the data.\n",
    "* Mean Squared Error (MSE) Often used in this field of research. I use it to compare my model accuracy to others model accuracy."
   ]
  },
  {
   "cell_type": "code",
   "execution_count": 5,
   "metadata": {},
   "outputs": [],
   "source": [
    "#importing the metrics\n",
    "from sklearn.metrics import mean_squared_error\n",
    "#i needed to define my own mape error function\n",
    "def mean_absolute_percentage_error(true, pred):\n",
    "    M = 0\n",
    "    #true = true.to_list()\n",
    "    length = len(pred)\n",
    "    for i in range(length):\n",
    "        M += abs((true[i]-pred[i])/true[i])\n",
    "    return 100*M/length\n",
    "#a time array gets initiated, so the training time can be compared\n",
    "t = [0]*4"
   ]
  },
  {
   "cell_type": "markdown",
   "metadata": {},
   "source": [
    "## Models\n",
    "\n",
    "There are two main models. For once the random forest (RF) and the support vector regressor (SVR).\n",
    "There are 2 additional models for a comparision. A dummy model which calculates the mean of the latitude and a decision tree (DT). "
   ]
  },
  {
   "cell_type": "code",
   "execution_count": 6,
   "metadata": {},
   "outputs": [
    {
     "name": "stdout",
     "output_type": "stream",
     "text": [
      "It took 0.0014834403991699219 seconds for the training.\n"
     ]
    }
   ],
   "source": [
    "#dummy model of the mean\n",
    "start = time.time()\n",
    "y_pred = [df['latitude'].mean()]*y_test.count()\n",
    "end = time.time()\n",
    "t[0] = end-start\n",
    "print('It took %s seconds for the training.'%(end - start))\n",
    "np.savetxt(folder + 'mean.csv', y_pred, delimiter=',')"
   ]
  },
  {
   "cell_type": "code",
   "execution_count": 7,
   "metadata": {},
   "outputs": [
    {
     "name": "stdout",
     "output_type": "stream",
     "text": [
      "It took 0.9860496520996094 seconds for the training.\n"
     ]
    }
   ],
   "source": [
    "#decision tree model\n",
    "start = time.time()\n",
    "regr = DecisionTreeRegressor()\n",
    "regr = regr.fit(X_train, y_train)\n",
    "y_pred = regr.predict(X_test)\n",
    "np.savetxt(folder + 'decisiontree.csv', y_pred, delimiter=',')\n",
    "end = time.time()\n",
    "t[1] = end-start\n",
    "print('It took %s seconds for the training.'%(end - start))"
   ]
  },
  {
   "cell_type": "code",
   "execution_count": 8,
   "metadata": {},
   "outputs": [
    {
     "name": "stdout",
     "output_type": "stream",
     "text": [
      "It took 272.88474225997925 seconds for the training.\n"
     ]
    }
   ],
   "source": [
    "#random forest model\n",
    "start = time.time()\n",
    "regr = RandomForestRegressor(n_estimators = 500)\n",
    "regr = make_pipeline(StandardScaler(), regr)\n",
    "regr = regr.fit(X_train, y_train)\n",
    "y_pred = regr.predict(X_test)\n",
    "np.savetxt(folder + 'randomforest.csv', y_pred, delimiter=',')\n",
    "end = time.time()\n",
    "t[2] = end-start\n",
    "print('It took %s seconds for the training.'%(end - start))"
   ]
  },
  {
   "cell_type": "code",
   "execution_count": 9,
   "metadata": {},
   "outputs": [
    {
     "name": "stdout",
     "output_type": "stream",
     "text": [
      "It took 734.1716539859772 seconds for the training.\n"
     ]
    }
   ],
   "source": [
    "#support vector regressor model\n",
    "#this model requires the data to be normalized\n",
    "#therefore there is a standardscaler pipeline applied to the data\n",
    "start = time.time()\n",
    "n_samples, n_features = 10, 5\n",
    "rng = np.random.RandomState(0)\n",
    "y = rng.randn(n_samples)\n",
    "X = rng.randn(n_samples, n_features)\n",
    "regr = SVR(kernel = 'rbf', C=5, gamma=0.05, epsilon=0.01, tol=5e-4, cache_size = 400)\n",
    "regr = make_pipeline(StandardScaler(), regr)\n",
    "regr.fit(X_train, y_train)\n",
    "y_pred = regr.predict(X_test)\n",
    "np.savetxt(folder + 'supportvector.csv', y_pred, delimiter=',')\n",
    "end = time.time()\n",
    "t[3] = end-start\n",
    "print('It took %s seconds for the training.'%(end - start))"
   ]
  },
  {
   "cell_type": "markdown",
   "metadata": {},
   "source": [
    "## Results and visualization\n",
    "\n",
    "Now the models have been trained and predicted the latitude. It is possible to compare those models with each other.\n",
    "One other interesting result is the time, it had already been printed above."
   ]
  },
  {
   "cell_type": "code",
   "execution_count": 10,
   "metadata": {},
   "outputs": [],
   "source": [
    "#all methods used in this work\n",
    "methods = ['mean.csv','decisiontree.csv', 'randomforest.csv', 'supportvector.csv']\n",
    "#load the true latitude\n",
    "y_true = np.loadtxt(folder + 'true.csv', delimiter = ',')"
   ]
  },
  {
   "cell_type": "code",
   "execution_count": 11,
   "metadata": {
    "scrolled": true
   },
   "outputs": [
    {
     "data": {
      "text/html": [
       "<div>\n",
       "<style scoped>\n",
       "    .dataframe tbody tr th:only-of-type {\n",
       "        vertical-align: middle;\n",
       "    }\n",
       "\n",
       "    .dataframe tbody tr th {\n",
       "        vertical-align: top;\n",
       "    }\n",
       "\n",
       "    .dataframe thead th {\n",
       "        text-align: right;\n",
       "    }\n",
       "</style>\n",
       "<table border=\"1\" class=\"dataframe\">\n",
       "  <thead>\n",
       "    <tr style=\"text-align: right;\">\n",
       "      <th></th>\n",
       "      <th>MSE</th>\n",
       "      <th>RMSE</th>\n",
       "      <th>MAPE</th>\n",
       "      <th>time [s]</th>\n",
       "      <th>methods</th>\n",
       "    </tr>\n",
       "  </thead>\n",
       "  <tbody>\n",
       "    <tr>\n",
       "      <th>0</th>\n",
       "      <td>3.619671</td>\n",
       "      <td>1.902543</td>\n",
       "      <td>3.273678</td>\n",
       "      <td>0.001483</td>\n",
       "      <td>mean</td>\n",
       "    </tr>\n",
       "    <tr>\n",
       "      <th>1</th>\n",
       "      <td>0.311571</td>\n",
       "      <td>0.558186</td>\n",
       "      <td>0.789860</td>\n",
       "      <td>0.986050</td>\n",
       "      <td>decisiontree</td>\n",
       "    </tr>\n",
       "    <tr>\n",
       "      <th>2</th>\n",
       "      <td>0.155215</td>\n",
       "      <td>0.393973</td>\n",
       "      <td>0.582066</td>\n",
       "      <td>272.884742</td>\n",
       "      <td>randomforest</td>\n",
       "    </tr>\n",
       "    <tr>\n",
       "      <th>3</th>\n",
       "      <td>0.205131</td>\n",
       "      <td>0.452914</td>\n",
       "      <td>0.694936</td>\n",
       "      <td>734.171654</td>\n",
       "      <td>supportvector</td>\n",
       "    </tr>\n",
       "  </tbody>\n",
       "</table>\n",
       "</div>"
      ],
      "text/plain": [
       "        MSE      RMSE      MAPE    time [s]        methods\n",
       "0  3.619671  1.902543  3.273678    0.001483           mean\n",
       "1  0.311571  0.558186  0.789860    0.986050   decisiontree\n",
       "2  0.155215  0.393973  0.582066  272.884742   randomforest\n",
       "3  0.205131  0.452914  0.694936  734.171654  supportvector"
      ]
     },
     "execution_count": 11,
     "metadata": {},
     "output_type": "execute_result"
    }
   ],
   "source": [
    "#creating an array of the errors\n",
    "\n",
    "error = []\n",
    "for i in methods:\n",
    "    #creating a row to later append to the error array\n",
    "    error_row = []\n",
    "    #load the predicted latitude\n",
    "    y_pred = np.loadtxt(folder + i, delimiter = ',')\n",
    "    #MSE\n",
    "    error_row.append(mean_squared_error(y_true, y_pred, squared=True))\n",
    "    #RMSE\n",
    "    error_row.append(mean_squared_error(y_true, y_pred, squared=False))\n",
    "    #Mape\n",
    "    error_row.append(mean_absolute_percentage_error(y_true, y_pred))\n",
    "    #appending to the error array\n",
    "    error.append(error_row)\n",
    "\n",
    "#plotting the errors\n",
    "df_error = pd.DataFrame(error,columns=['MSE','RMSE','MAPE'])\n",
    "df_error['time [s]'] = t\n",
    "df_error['methods'] = list(map(lambda i: i[:-4], methods)) \n",
    "df_error"
   ]
  },
  {
   "cell_type": "code",
   "execution_count": 12,
   "metadata": {},
   "outputs": [
    {
     "data": {
      "text/plain": [
       "Text(0, 0.5, 'MAPE')"
      ]
     },
     "execution_count": 12,
     "metadata": {},
     "output_type": "execute_result"
    },
    {
     "data": {
      "image/png": "[encoded data removed]",
      "text/plain": [
       "<Figure size 432x288 with 1 Axes>"
      ]
     },
     "metadata": {
      "needs_background": "light"
     },
     "output_type": "display_data"
    }
   ],
   "source": [
    "#plot the deviation of the MAPE as a box plot\n",
    "mape = pd.DataFrame()\n",
    "for name in methods[1:4]:\n",
    "    y_pred = np.loadtxt(folder + name, delimiter = ',')\n",
    "    col = []\n",
    "    #the mape for a single datapoint\n",
    "    for i in range(y_pred.shape[0]):\n",
    "        col.append(abs((y_true[i]-y_pred[i])/y_true[i])*100)\n",
    "    mape[name[:-4]] = col\n",
    "ax = mape.boxplot()\n",
    "ax.set_ylabel('MAPE')"
   ]
  },
  {
   "cell_type": "code",
   "execution_count": 13,
   "metadata": {},
   "outputs": [
    {
     "data": {
      "text/plain": [
       "Text(0.5, 0, 'true latitude')"
      ]
     },
     "execution_count": 13,
     "metadata": {},
     "output_type": "execute_result"
    },
    {
     "data": {
      "image/png": "[encoded data removed]",
      "text/plain": [
       "<Figure size 432x288 with 1 Axes>"
      ]
     },
     "metadata": {
      "needs_background": "light"
     },
     "output_type": "display_data"
    }
   ],
   "source": [
    "#plotting a comparision of the predicted points to the true points for the models in a single plot\n",
    "compare = pd.DataFrame(y_test.to_list(),columns=['true'])\n",
    "fig = plt.figure()\n",
    "#restricting the plots, excluding the decision tree model\n",
    "plotMethods = []\n",
    "plotMethods.append(methods[3])\n",
    "plotMethods.append(methods[2])\n",
    "plotMethods.append(methods[0])\n",
    "\n",
    "#iterating over the desired models to plot\n",
    "for name in plotMethods:\n",
    "    y_pred = np.loadtxt(folder + name, delimiter = ',')\n",
    "    compare[name] = y_pred\n",
    "    #regression plot\n",
    "    sns.regplot([compare['true']], [compare[name]], marker = '.')\n",
    "#adding the true plot\n",
    "sns.lineplot([42,54],[42,54], color = 'black')\n",
    "#adding labels in the legend\n",
    "fig.legend(labels=['SVR','RF','mean','true'])\n",
    "#adding the axis labels\n",
    "plt.ylabel('predicted latitude')\n",
    "plt.xlabel('true latitude')"
   ]
  },
  {
   "cell_type": "code",
   "execution_count": 16,
   "metadata": {},
   "outputs": [
    {
     "data": {
      "text/plain": [
       "<matplotlib.legend.Legend at 0x7f5634589340>"
      ]
     },
     "execution_count": 16,
     "metadata": {},
     "output_type": "execute_result"
    },
    {
     "data": {
      "image/png": "[encoded data removed]",
      "text/plain": [
       "<Figure size 432x288 with 1 Axes>"
      ]
     },
     "metadata": {
      "needs_background": "light"
     },
     "output_type": "display_data"
    }
   ],
   "source": [
    "#plotting the predicted points of the models for the first couple of datapoints\n",
    "#also plotting the localization of the sensors, to analyse a correlation of the prediction with \n",
    "#the sensors position\n",
    "\n",
    "plot_points = 10 #amount of data points\n",
    "s = 140 #size of marker\n",
    "fig = plt.figure()\n",
    "#scatter plot\n",
    "sns.scatterplot(list(range(plot_points)),X_test[:plot_points]['s1_latitude'], color = '#ff5555', marker = '*', s =s)\n",
    "sns.scatterplot(list(range(plot_points)),X_test[:plot_points]['s2_latitude'], color = '#cc5555', marker = '*', s =s)\n",
    "sns.scatterplot(list(range(plot_points)),X_test[:plot_points]['s3_latitude'], color = '#995555', marker = '*', s =s)\n",
    "for name in plotMethods:\n",
    "    y_pred = np.loadtxt(folder + name, delimiter = ',')\n",
    "    sns.scatterplot(list(range(plot_points)),y_pred[:plot_points],marker = '.', s=s*1.5 )\n",
    "sns.scatterplot(list(range(plot_points)),y_test[:plot_points], marker = '.',s=s*2, color = 'black')\n",
    "#setting the labels\n",
    "fig.legend(labels=['sensor 1','sensor 2', 'sensor 3', 'SVR','RF','mean','true'])"
   ]
  },
  {
   "cell_type": "markdown",
   "metadata": {},
   "source": [
    "## Discussion\n",
    "\n",
    "The Random Forest and the SVR are better approximators for the latitude than the two comparision models. The Random Forest however is superior in this training procedure in terms of all accuracy metrics and the training time. The SVR would be very fast for a small dataset but doesn't scale very well with larger data sizes. The final pictures shows that the position reconstruction is not just an average of the sensor position but is capable to reconstruct the physical properties from the server, arrival time and the amplitude of the sensors and aircraft, as well as the position of the sensors.\n",
    "\n",
    "However even if the MAPE is less then than 1%, this still correlates to a mistake of a couple of kilometers. For an exact position localization, a machine learning attempt might not be sufficient. However as a supplement for missing data or to track a spoofing attack, such a model can still be used."
   ]
  }
 ],
 "metadata": {
  "kernelspec": {
   "display_name": "Python 3",
   "language": "python",
   "name": "python3"
  },
  "language_info": {
   "codemirror_mode": {
    "name": "ipython",
    "version": 3
   },
   "file_extension": ".py",
   "mimetype": "text/x-python",
   "name": "python",
   "nbconvert_exporter": "python",
   "pygments_lexer": "ipython3",
   "version": "3.8.5"
  }
 },
 "nbformat": 4,
 "nbformat_minor": 4
}
